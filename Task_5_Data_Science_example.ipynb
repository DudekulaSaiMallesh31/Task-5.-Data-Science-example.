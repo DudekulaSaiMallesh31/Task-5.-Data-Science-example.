{
  "nbformat": 4,
  "nbformat_minor": 0,
  "metadata": {
    "colab": {
      "provenance": [],
      "gpuType": "T4"
    },
    "kernelspec": {
      "name": "python3",
      "display_name": "Python 3"
    },
    "language_info": {
      "name": "python"
    }
  },
  "cells": [
    {
      "cell_type": "code",
      "source": [
        "!pip install scikit-learn seaborn"
      ],
      "metadata": {
        "colab": {
          "base_uri": "https://localhost:8080/"
        },
        "id": "GScCsiXFViAA",
        "outputId": "242d271b-5d3d-413b-c3d8-30622bc48555"
      },
      "execution_count": 3,
      "outputs": [
        {
          "output_type": "stream",
          "name": "stdout",
          "text": [
            "Requirement already satisfied: scikit-learn in /usr/local/lib/python3.11/dist-packages (1.6.1)\n",
            "Requirement already satisfied: seaborn in /usr/local/lib/python3.11/dist-packages (0.13.2)\n",
            "Requirement already satisfied: numpy>=1.19.5 in /usr/local/lib/python3.11/dist-packages (from scikit-learn) (1.26.4)\n",
            "Requirement already satisfied: scipy>=1.6.0 in /usr/local/lib/python3.11/dist-packages (from scikit-learn) (1.13.1)\n",
            "Requirement already satisfied: joblib>=1.2.0 in /usr/local/lib/python3.11/dist-packages (from scikit-learn) (1.4.2)\n",
            "Requirement already satisfied: threadpoolctl>=3.1.0 in /usr/local/lib/python3.11/dist-packages (from scikit-learn) (3.5.0)\n",
            "Requirement already satisfied: pandas>=1.2 in /usr/local/lib/python3.11/dist-packages (from seaborn) (2.2.2)\n",
            "Requirement already satisfied: matplotlib!=3.6.1,>=3.4 in /usr/local/lib/python3.11/dist-packages (from seaborn) (3.10.0)\n",
            "Requirement already satisfied: contourpy>=1.0.1 in /usr/local/lib/python3.11/dist-packages (from matplotlib!=3.6.1,>=3.4->seaborn) (1.3.1)\n",
            "Requirement already satisfied: cycler>=0.10 in /usr/local/lib/python3.11/dist-packages (from matplotlib!=3.6.1,>=3.4->seaborn) (0.12.1)\n",
            "Requirement already satisfied: fonttools>=4.22.0 in /usr/local/lib/python3.11/dist-packages (from matplotlib!=3.6.1,>=3.4->seaborn) (4.56.0)\n",
            "Requirement already satisfied: kiwisolver>=1.3.1 in /usr/local/lib/python3.11/dist-packages (from matplotlib!=3.6.1,>=3.4->seaborn) (1.4.8)\n",
            "Requirement already satisfied: packaging>=20.0 in /usr/local/lib/python3.11/dist-packages (from matplotlib!=3.6.1,>=3.4->seaborn) (24.2)\n",
            "Requirement already satisfied: pillow>=8 in /usr/local/lib/python3.11/dist-packages (from matplotlib!=3.6.1,>=3.4->seaborn) (11.1.0)\n",
            "Requirement already satisfied: pyparsing>=2.3.1 in /usr/local/lib/python3.11/dist-packages (from matplotlib!=3.6.1,>=3.4->seaborn) (3.2.1)\n",
            "Requirement already satisfied: python-dateutil>=2.7 in /usr/local/lib/python3.11/dist-packages (from matplotlib!=3.6.1,>=3.4->seaborn) (2.8.2)\n",
            "Requirement already satisfied: pytz>=2020.1 in /usr/local/lib/python3.11/dist-packages (from pandas>=1.2->seaborn) (2025.1)\n",
            "Requirement already satisfied: tzdata>=2022.7 in /usr/local/lib/python3.11/dist-packages (from pandas>=1.2->seaborn) (2025.1)\n",
            "Requirement already satisfied: six>=1.5 in /usr/local/lib/python3.11/dist-packages (from python-dateutil>=2.7->matplotlib!=3.6.1,>=3.4->seaborn) (1.17.0)\n"
          ]
        }
      ]
    },
    {
      "cell_type": "markdown",
      "source": [
        "Load and Preprocess Data (Step 1: Load Dataset and Select Columns)\n"
      ],
      "metadata": {
        "id": "fiUQw6UTZBHJ"
      }
    },
    {
      "cell_type": "code",
      "execution_count": 2,
      "metadata": {
        "colab": {
          "base_uri": "https://localhost:8080/"
        },
        "id": "kPgybTjoUv14",
        "outputId": "a9459697-fea0-4a60-daaf-df9563962048"
      },
      "outputs": [
        {
          "output_type": "stream",
          "name": "stdout",
          "text": [
            "                                             Category  \\\n",
            "9   Credit reporting or other personal consumer re...   \n",
            "13  Credit reporting or other personal consumer re...   \n",
            "14  Credit reporting or other personal consumer re...   \n",
            "19  Credit reporting or other personal consumer re...   \n",
            "20  Credit reporting or other personal consumer re...   \n",
            "\n",
            "                                            Complaint  \n",
            "9   Subject : Complaint Regarding Inaccurate Late ...  \n",
            "13  Subject : Formal Complaint Against XXXX and Tr...  \n",
            "14  Subject : Follow-Up on Dispute Submitted XX/XX...  \n",
            "19  XX/XX/year> Subject : XXXX XXXX XXXX TransUnio...  \n",
            "20  XXXX XXXX XXXX XXXX XXXX XXXX XXXX XXXX XXXX X...  \n"
          ]
        }
      ],
      "source": [
        "import pandas as pd\n",
        "\n",
        "# Load dataset\n",
        "url = \"https://files.consumerfinance.gov/ccdb/complaints.csv.zip\"\n",
        "df = pd.read_csv(url, compression='zip', low_memory=False)\n",
        "\n",
        "# Selecting required columns\n",
        "columns_needed = [\"Product\", \"Consumer complaint narrative\"]\n",
        "df = df[columns_needed].dropna()\n",
        "df.columns = [\"Category\", \"Complaint\"]\n",
        "\n",
        "# Check the first few rows to ensure correct loading\n",
        "print(df.head())\n"
      ]
    },
    {
      "cell_type": "markdown",
      "source": [
        "Clean Data and Map Categories"
      ],
      "metadata": {
        "id": "pshXQOeBX6BW"
      }
    },
    {
      "cell_type": "code",
      "source": [
        "import re\n",
        "import string\n",
        "\n",
        "# Mapping categories to numerical values\n",
        "category_map = {\n",
        "    \"Credit reporting, repair, or other\": 0,\n",
        "    \"Debt collection\": 1,\n",
        "    \"Consumer Loan\": 2,\n",
        "    \"Mortgage\": 3\n",
        "}\n",
        "df = df[df[\"Category\"].isin(category_map.keys())]\n",
        "df[\"Category\"] = df[\"Category\"].map(category_map)\n",
        "\n",
        "# Text Preprocessing function\n",
        "def clean_text(text):\n",
        "    text = text.lower()\n",
        "    text = re.sub(f\"[{string.punctuation}]\", \"\", text)\n",
        "    text = re.sub(\"\\d+\", \"\", text)  # Remove numbers\n",
        "    return text\n",
        "\n",
        "# Clean the complaint text\n",
        "df[\"Complaint\"] = df[\"Complaint\"].apply(clean_text)\n",
        "\n",
        "# Check the first few rows to ensure preprocessing is done correctly\n",
        "print(df.head())\n"
      ],
      "metadata": {
        "colab": {
          "base_uri": "https://localhost:8080/"
        },
        "id": "vP1kOvG4Y_t-",
        "outputId": "42b19434-bc9a-4fc9-88a6-9f1e75ce47db"
      },
      "execution_count": 3,
      "outputs": [
        {
          "output_type": "stream",
          "name": "stderr",
          "text": [
            "<ipython-input-3-c4df1c1068da>:12: SettingWithCopyWarning: \n",
            "A value is trying to be set on a copy of a slice from a DataFrame.\n",
            "Try using .loc[row_indexer,col_indexer] = value instead\n",
            "\n",
            "See the caveats in the documentation: https://pandas.pydata.org/pandas-docs/stable/user_guide/indexing.html#returning-a-view-versus-a-copy\n",
            "  df[\"Category\"] = df[\"Category\"].map(category_map)\n"
          ]
        },
        {
          "output_type": "stream",
          "name": "stdout",
          "text": [
            "     Category                                          Complaint\n",
            "299         1  i have dealt with xxxx xxxx all my life and ev...\n",
            "321         1  i am writing to address a concerning matter re...\n",
            "377         1  this is so annoying  frustrating ive sent expe...\n",
            "378         1  delete those late dates and update the statuse...\n",
            "380         1  this is so annoying  frustrating ive sent equi...\n"
          ]
        }
      ]
    },
    {
      "cell_type": "markdown",
      "source": [
        "Split Dataset into Train and Test"
      ],
      "metadata": {
        "id": "MrRx9-FTZOI-"
      }
    },
    {
      "cell_type": "code",
      "source": [
        "from sklearn.model_selection import train_test_split\n",
        "\n",
        "# Splitting dataset\n",
        "X_train, X_test, y_train, y_test = train_test_split(\n",
        "    df[\"Complaint\"], df[\"Category\"], test_size=0.2, random_state=42, stratify=df[\"Category\"]\n",
        ")\n",
        "\n",
        "# Check the shape of train and test splits\n",
        "print(f\"Training Data Size: {X_train.shape}\")\n",
        "print(f\"Test Data Size: {X_test.shape}\")\n"
      ],
      "metadata": {
        "colab": {
          "base_uri": "https://localhost:8080/"
        },
        "id": "9-O8pv3KZO2o",
        "outputId": "d6070202-bbe8-4b5b-fec2-cc2b92c39c00"
      },
      "execution_count": 4,
      "outputs": [
        {
          "output_type": "stream",
          "name": "stdout",
          "text": [
            "Training Data Size: (351671,)\n",
            "Test Data Size: (87918,)\n"
          ]
        }
      ]
    },
    {
      "cell_type": "markdown",
      "source": [
        "Convert Text to TF-IDF Features"
      ],
      "metadata": {
        "id": "9XZ20JGfZS1-"
      }
    },
    {
      "cell_type": "code",
      "source": [
        "from sklearn.feature_extraction.text import TfidfVectorizer\n",
        "\n",
        "# Convert text to numerical features using TF-IDF\n",
        "vectorizer = TfidfVectorizer(stop_words=\"english\", max_features=5000)\n",
        "X_train_tfidf = vectorizer.fit_transform(X_train)\n",
        "X_test_tfidf = vectorizer.transform(X_test)\n",
        "\n",
        "# Check the shape of the resulting TF-IDF matrices\n",
        "print(f\"TF-IDF Training Matrix Shape: {X_train_tfidf.shape}\")\n",
        "print(f\"TF-IDF Test Matrix Shape: {X_test_tfidf.shape}\")\n"
      ],
      "metadata": {
        "colab": {
          "base_uri": "https://localhost:8080/"
        },
        "id": "KmkS5ca4ZSYP",
        "outputId": "2f724900-f0d0-4235-d08d-beb26f1348aa"
      },
      "execution_count": 5,
      "outputs": [
        {
          "output_type": "stream",
          "name": "stdout",
          "text": [
            "TF-IDF Training Matrix Shape: (351671, 5000)\n",
            "TF-IDF Test Matrix Shape: (87918, 5000)\n"
          ]
        }
      ]
    },
    {
      "cell_type": "markdown",
      "source": [
        " Train Naïve Bayes Model"
      ],
      "metadata": {
        "id": "HqzFuFV6ZWa1"
      }
    },
    {
      "cell_type": "code",
      "source": [
        "from sklearn.naive_bayes import MultinomialNB\n",
        "from sklearn.metrics import accuracy_score, classification_report\n",
        "\n",
        "# Train Naïve Bayes model\n",
        "nb_model = MultinomialNB()\n",
        "nb_model.fit(X_train_tfidf, y_train)\n",
        "\n",
        "# Predictions and evaluation\n",
        "y_pred_nb = nb_model.predict(X_test_tfidf)\n",
        "print(\"Naïve Bayes Model Accuracy:\", accuracy_score(y_test, y_pred_nb))\n",
        "print(classification_report(y_test, y_pred_nb))\n"
      ],
      "metadata": {
        "colab": {
          "base_uri": "https://localhost:8080/"
        },
        "id": "wW_fKRL0ZXD-",
        "outputId": "9453aab8-0d71-4c50-e132-ccf87b4990e1"
      },
      "execution_count": 6,
      "outputs": [
        {
          "output_type": "stream",
          "name": "stdout",
          "text": [
            "Naïve Bayes Model Accuracy: 0.951238654200505\n",
            "              precision    recall  f1-score   support\n",
            "\n",
            "           1       0.97      0.97      0.97     60894\n",
            "           2       0.76      0.30      0.43      1892\n",
            "           3       0.91      0.96      0.93     25132\n",
            "\n",
            "    accuracy                           0.95     87918\n",
            "   macro avg       0.88      0.74      0.78     87918\n",
            "weighted avg       0.95      0.95      0.95     87918\n",
            "\n"
          ]
        }
      ]
    },
    {
      "cell_type": "markdown",
      "source": [
        "Train Logistic Regression Model"
      ],
      "metadata": {
        "id": "CJQiy-BwZcCZ"
      }
    },
    {
      "cell_type": "code",
      "source": [
        "from sklearn.linear_model import LogisticRegression\n",
        "\n",
        "# Train Logistic Regression model\n",
        "lr_model = LogisticRegression(max_iter=1000)\n",
        "lr_model.fit(X_train_tfidf, y_train)\n",
        "\n",
        "# Predictions and evaluation\n",
        "y_pred_lr = lr_model.predict(X_test_tfidf)\n",
        "print(\"Logistic Regression Model Accuracy:\", accuracy_score(y_test, y_pred_lr))\n",
        "print(classification_report(y_test, y_pred_lr))\n"
      ],
      "metadata": {
        "colab": {
          "base_uri": "https://localhost:8080/"
        },
        "id": "0XmwfHH4Zbu6",
        "outputId": "04187efc-0db6-4aff-aa4c-de77464e4178"
      },
      "execution_count": 7,
      "outputs": [
        {
          "output_type": "stream",
          "name": "stdout",
          "text": [
            "Logistic Regression Model Accuracy: 0.9678336631861507\n",
            "              precision    recall  f1-score   support\n",
            "\n",
            "           1       0.97      0.98      0.98     60894\n",
            "           2       0.80      0.53      0.64      1892\n",
            "           3       0.96      0.96      0.96     25132\n",
            "\n",
            "    accuracy                           0.97     87918\n",
            "   macro avg       0.91      0.83      0.86     87918\n",
            "weighted avg       0.97      0.97      0.97     87918\n",
            "\n"
          ]
        }
      ]
    },
    {
      "cell_type": "markdown",
      "source": [
        "Naive Bayes with Bernoulli Distribution"
      ],
      "metadata": {
        "id": "g02RLzT3mH2T"
      }
    },
    {
      "cell_type": "code",
      "source": [
        "from sklearn.naive_bayes import BernoulliNB\n",
        "from sklearn.metrics import accuracy_score, classification_report\n",
        "\n",
        "# Train Bernoulli Naive Bayes model\n",
        "bnb_model = BernoulliNB()\n",
        "bnb_model.fit(X_train_tfidf, y_train)\n",
        "\n",
        "# Predictions and evaluation\n",
        "y_pred_bnb = bnb_model.predict(X_test_tfidf)\n",
        "print(\"Bernoulli Naive Bayes Model Accuracy:\", accuracy_score(y_test, y_pred_bnb))\n",
        "print(classification_report(y_test, y_pred_bnb))\n"
      ],
      "metadata": {
        "colab": {
          "base_uri": "https://localhost:8080/"
        },
        "id": "SZaJDx7epTXF",
        "outputId": "31956832-38d4-40eb-c8eb-bc8262c8aa14"
      },
      "execution_count": 11,
      "outputs": [
        {
          "output_type": "stream",
          "name": "stdout",
          "text": [
            "Bernoulli Naive Bayes Model Accuracy: 0.8632475716008099\n",
            "              precision    recall  f1-score   support\n",
            "\n",
            "           1       0.94      0.89      0.92     60894\n",
            "           2       0.20      0.69      0.32      1892\n",
            "           3       0.86      0.80      0.83     25132\n",
            "\n",
            "    accuracy                           0.86     87918\n",
            "   macro avg       0.67      0.79      0.69     87918\n",
            "weighted avg       0.90      0.86      0.88     87918\n",
            "\n"
          ]
        }
      ]
    },
    {
      "cell_type": "markdown",
      "source": [
        "LightGBM"
      ],
      "metadata": {
        "id": "jBsTGGsvpdpd"
      }
    },
    {
      "cell_type": "markdown",
      "source": [
        "Prediction Function"
      ],
      "metadata": {
        "id": "FV4bv0FgZnk5"
      }
    },
    {
      "cell_type": "code",
      "source": [
        "# Prediction function\n",
        "def predict_complaint(text, model):\n",
        "    text_tfidf = vectorizer.transform([clean_text(text)])\n",
        "    category_idx = model.predict(text_tfidf)[0]\n",
        "    category = [k for k, v in category_map.items() if v == category_idx][0]\n",
        "    return category\n",
        "\n",
        "# Example prediction using Logistic Regression\n",
        "example_text = \"My credit report has incorrect information and they won't fix it.\"\n",
        "print(\"Predicted Category:\", predict_complaint(example_text, lr_model))\n"
      ],
      "metadata": {
        "colab": {
          "base_uri": "https://localhost:8080/"
        },
        "id": "yjbmLPFXjsAp",
        "outputId": "f783c964-bb9f-456f-bf31-6b6a286c4d44"
      },
      "execution_count": 10,
      "outputs": [
        {
          "output_type": "stream",
          "name": "stdout",
          "text": [
            "Predicted Category: Debt collection\n"
          ]
        }
      ]
    }
  ]
}